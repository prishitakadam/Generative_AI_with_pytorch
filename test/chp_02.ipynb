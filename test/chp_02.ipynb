{
 "cells": [
  {
   "cell_type": "markdown",
   "id": "4e2250d0",
   "metadata": {
    "papermill": {
     "duration": 0.010202,
     "end_time": "2025-04-11T17:30:44.591682",
     "exception": false,
     "start_time": "2025-04-11T17:30:44.581480",
     "status": "completed"
    },
    "tags": []
   },
   "source": [
    "# Chapter 2: Deep Learning with PyTorch\n",
    "\n",
    " This chapter covers\n",
    " \n",
    "* PyTorch tensors and basic operations\r",
    "* Preparing data for deep learning in PyTorch\n",
    "* Building and training deep neural networks with PyTorch \n",
    "* Conducting binary and multi-category classifications with deep learning \r",
    "* Creating a validation set to decide training stop points\r\n",
    "\n",
    "\n",
    "\n",
    "In this book, we’ll use deep neural networks to generate a wide range of content, including text, images, shapes, music, and more. I assume you possess a prior familiarity with the inner workings of machine learning (ML), and specifically, a foundational understanding of artificial neural networks. Throughout this chapter, I’ll refresh your memory on a few key concepts such as loss functions, activation functions, optimizers, and the learning rate, which constitute indispensable elements in the development and training of deep neural networks. Should there be any gaps in your knowledge pertaining to these concepts, it is strongly encouraged that you rectify them before progressing further with projects in this book. \n",
    "Generative AI models are frequently confronted with the task of either binary or multi-category classification. For instance, in Generative Adversarial Networks (GANs), the discriminator undertakes the essential role of a binary classifier, its purpose being to distinguish between the fake samples created by the generator from real samples from the training set. Similarly, in the context of text generation models, whether in recurrent neural networks or Transformers, the overarching objective is to predict the subsequent character or word from an extensive array of possibilities (essentially a multi-category classification task).\n",
    "\n",
    "In this chapter, you’ll learn how to use PyTorch to create deep neural networks to perform binary and multi-category classifications so that you become well-versed in deep learning and classification tasks. \n",
    "Specifically, you’ll engage in an end-to-end deep learning project in PyTorch, on a quest to classify grayscale images of clothing items into different categories such as coats, bags, sneakers, shirts, and so on. The intention is to prepare you for the creation of deep neural networks, capable of performing both binary and multi-category classification tasks in PyTorch. This, in turn, will get you ready for the upcoming chapters, where you use deep neural networks in PyTorch to create various generative models.\n",
    "\n",
    "To train generative AI models, we harness a diverse range of data formats such as raw text, audio files, image pixels, and arrays of numbers. Deep neural networks created in PyTorch cannot take these forms of data directly as inputs. Instead, we must first convert them into a format that the neural networks understand and accept. Specifically, you’ll convert various forms of raw data into PyTorch tensors (fundamental data structures used to represent and manipulate data) before feeding them to generative AI models. Therefore, in this chapter, you’ll also learn the basics of data types, how to create various forms of PyTorch tensors, and how to use them in deep learning. "
   ]
  },
  {
   "cell_type": "markdown",
   "id": "f45eeff8",
   "metadata": {
    "papermill": {
     "duration": 0.006798,
     "end_time": "2025-04-11T17:30:44.605765",
     "exception": false,
     "start_time": "2025-04-11T17:30:44.598967",
     "status": "completed"
    },
    "tags": []
   },
   "source": [
    "# 1. Data Types in PyTorch "
   ]
  },
  {
   "cell_type": "markdown",
   "id": "c69d9b0e",
   "metadata": {
    "papermill": {
     "duration": 0.007034,
     "end_time": "2025-04-11T17:30:44.619721",
     "exception": false,
     "start_time": "2025-04-11T17:30:44.612687",
     "status": "completed"
    },
    "tags": []
   },
   "source": [
    "## 1.1. Create PyTorch Tensors"
   ]
  },
  {
   "cell_type": "code",
   "execution_count": 1,
   "id": "b34b54e1",
   "metadata": {
    "execution": {
     "iopub.execute_input": "2025-04-11T17:30:44.634997Z",
     "iopub.status.busy": "2025-04-11T17:30:44.634340Z",
     "iopub.status.idle": "2025-04-11T17:30:44.641380Z",
     "shell.execute_reply": "2025-04-11T17:30:44.640621Z"
    },
    "papermill": {
     "duration": 0.015797,
     "end_time": "2025-04-11T17:30:44.642451",
     "exception": false,
     "start_time": "2025-04-11T17:30:44.626654",
     "status": "completed"
    },
    "tags": []
   },
   "outputs": [],
   "source": [
    "heights = [189, 170, 189, 163, 183, 171, 185,\n",
    "           168, 173, 183, 173, 173, 175, 178,\n",
    "           183, 193, 178, 173, 174, 183, 183,\n",
    "           180, 168, 180, 170, 178, 182, 180,\n",
    "           183, 178, 182, 188, 175, 179, 183,\n",
    "           193, 182, 183, 177, 185, 188, 188,\n",
    "           182, 185, 191, 183]"
   ]
  },
  {
   "cell_type": "code",
   "execution_count": 2,
   "id": "c887761b",
   "metadata": {
    "execution": {
     "iopub.execute_input": "2025-04-11T17:30:44.657318Z",
     "iopub.status.busy": "2025-04-11T17:30:44.657096Z",
     "iopub.status.idle": "2025-04-11T17:30:48.730614Z",
     "shell.execute_reply": "2025-04-11T17:30:48.729931Z"
    },
    "papermill": {
     "duration": 4.082415,
     "end_time": "2025-04-11T17:30:48.731978",
     "exception": false,
     "start_time": "2025-04-11T17:30:44.649563",
     "status": "completed"
    },
    "tags": []
   },
   "outputs": [],
   "source": [
    "import torch\n",
    "\n",
    "heights_tensor = torch.tensor(heights,    #A\n",
    "           dtype=torch.float64)    #B"
   ]
  },
  {
   "cell_type": "code",
   "execution_count": 3,
   "id": "ee650944",
   "metadata": {
    "execution": {
     "iopub.execute_input": "2025-04-11T17:30:48.747457Z",
     "iopub.status.busy": "2025-04-11T17:30:48.747153Z",
     "iopub.status.idle": "2025-04-11T17:30:48.778428Z",
     "shell.execute_reply": "2025-04-11T17:30:48.777631Z"
    },
    "papermill": {
     "duration": 0.040102,
     "end_time": "2025-04-11T17:30:48.779677",
     "exception": false,
     "start_time": "2025-04-11T17:30:48.739575",
     "status": "completed"
    },
    "tags": []
   },
   "outputs": [
    {
     "name": "stdout",
     "output_type": "stream",
     "text": [
      "tensor([1, 2, 3], dtype=torch.int32)\n",
      "tensor([1, 2, 3], dtype=torch.int32)\n"
     ]
    }
   ],
   "source": [
    "t1=torch.IntTensor([1, 2, 3])    #A \n",
    "t2=torch.tensor([1, 2, 3],\n",
    "             dtype=torch.int)    #B\n",
    "print(t1)\n",
    "print(t2)"
   ]
  },
  {
   "cell_type": "code",
   "execution_count": 4,
   "id": "309553ac",
   "metadata": {
    "execution": {
     "iopub.execute_input": "2025-04-11T17:30:48.795044Z",
     "iopub.status.busy": "2025-04-11T17:30:48.794830Z",
     "iopub.status.idle": "2025-04-11T17:30:48.834866Z",
     "shell.execute_reply": "2025-04-11T17:30:48.834110Z"
    },
    "papermill": {
     "duration": 0.049197,
     "end_time": "2025-04-11T17:30:48.835990",
     "exception": false,
     "start_time": "2025-04-11T17:30:48.786793",
     "status": "completed"
    },
    "tags": []
   },
   "outputs": [
    {
     "name": "stdout",
     "output_type": "stream",
     "text": [
      "tensor([[0., 0., 0.],\n",
      "        [0., 0., 0.]])\n"
     ]
    }
   ],
   "source": [
    "tensor1 = torch.zeros(2, 3)\n",
    "print(tensor1)"
   ]
  },
  {
   "cell_type": "code",
   "execution_count": 5,
   "id": "e57557ab",
   "metadata": {
    "execution": {
     "iopub.execute_input": "2025-04-11T17:30:48.853430Z",
     "iopub.status.busy": "2025-04-11T17:30:48.853210Z",
     "iopub.status.idle": "2025-04-11T17:30:48.872139Z",
     "shell.execute_reply": "2025-04-11T17:30:48.871343Z"
    },
    "papermill": {
     "duration": 0.029809,
     "end_time": "2025-04-11T17:30:48.873358",
     "exception": false,
     "start_time": "2025-04-11T17:30:48.843549",
     "status": "completed"
    },
    "tags": []
   },
   "outputs": [
    {
     "name": "stdout",
     "output_type": "stream",
     "text": [
      "tensor([[[1., 1., 1., 1., 1.],\n",
      "         [1., 1., 1., 1., 1.],\n",
      "         [1., 1., 1., 1., 1.],\n",
      "         [1., 1., 1., 1., 1.]]])\n"
     ]
    }
   ],
   "source": [
    "tensor2 = torch.ones(1,4,5)\n",
    "print(tensor2)"
   ]
  },
  {
   "cell_type": "code",
   "execution_count": 6,
   "id": "dddee61f",
   "metadata": {
    "execution": {
     "iopub.execute_input": "2025-04-11T17:30:48.889394Z",
     "iopub.status.busy": "2025-04-11T17:30:48.888684Z",
     "iopub.status.idle": "2025-04-11T17:30:48.894216Z",
     "shell.execute_reply": "2025-04-11T17:30:48.893461Z"
    },
    "papermill": {
     "duration": 0.014562,
     "end_time": "2025-04-11T17:30:48.895481",
     "exception": false,
     "start_time": "2025-04-11T17:30:48.880919",
     "status": "completed"
    },
    "tags": []
   },
   "outputs": [
    {
     "name": "stdout",
     "output_type": "stream",
     "text": [
      "tensor([0, 1, 2, 3, 4, 5, 6, 7, 8, 9], dtype=torch.int32)\n"
     ]
    }
   ],
   "source": [
    "import numpy as np\n",
    "\n",
    "nparr=np.array(range(10))\n",
    "pt_tensor=torch.tensor(nparr, dtype=torch.int)\n",
    "print(pt_tensor)"
   ]
  },
  {
   "cell_type": "markdown",
   "id": "7247d039",
   "metadata": {
    "papermill": {
     "duration": 0.006858,
     "end_time": "2025-04-11T17:30:48.909683",
     "exception": false,
     "start_time": "2025-04-11T17:30:48.902825",
     "status": "completed"
    },
    "tags": []
   },
   "source": [
    "## 1.2. Index and Slice PyTorch Tensors"
   ]
  },
  {
   "cell_type": "code",
   "execution_count": 7,
   "id": "94ab57ef",
   "metadata": {
    "execution": {
     "iopub.execute_input": "2025-04-11T17:30:48.924706Z",
     "iopub.status.busy": "2025-04-11T17:30:48.924502Z",
     "iopub.status.idle": "2025-04-11T17:30:48.929765Z",
     "shell.execute_reply": "2025-04-11T17:30:48.929076Z"
    },
    "papermill": {
     "duration": 0.014079,
     "end_time": "2025-04-11T17:30:48.930915",
     "exception": false,
     "start_time": "2025-04-11T17:30:48.916836",
     "status": "completed"
    },
    "tags": []
   },
   "outputs": [
    {
     "name": "stdout",
     "output_type": "stream",
     "text": [
      "tensor(189., dtype=torch.float64)\n"
     ]
    }
   ],
   "source": [
    "height = heights_tensor[2]\n",
    "print(height)"
   ]
  },
  {
   "cell_type": "code",
   "execution_count": 8,
   "id": "6c65e992",
   "metadata": {
    "execution": {
     "iopub.execute_input": "2025-04-11T17:30:48.945849Z",
     "iopub.status.busy": "2025-04-11T17:30:48.945646Z",
     "iopub.status.idle": "2025-04-11T17:30:48.949881Z",
     "shell.execute_reply": "2025-04-11T17:30:48.949173Z"
    },
    "papermill": {
     "duration": 0.013084,
     "end_time": "2025-04-11T17:30:48.951047",
     "exception": false,
     "start_time": "2025-04-11T17:30:48.937963",
     "status": "completed"
    },
    "tags": []
   },
   "outputs": [
    {
     "name": "stdout",
     "output_type": "stream",
     "text": [
      "tensor(191., dtype=torch.float64)\n"
     ]
    }
   ],
   "source": [
    "height = heights_tensor[-2]\n",
    "print(height)"
   ]
  },
  {
   "cell_type": "code",
   "execution_count": 9,
   "id": "a46aa4b5",
   "metadata": {
    "execution": {
     "iopub.execute_input": "2025-04-11T17:30:48.966433Z",
     "iopub.status.busy": "2025-04-11T17:30:48.965982Z",
     "iopub.status.idle": "2025-04-11T17:30:48.975613Z",
     "shell.execute_reply": "2025-04-11T17:30:48.974857Z"
    },
    "papermill": {
     "duration": 0.018494,
     "end_time": "2025-04-11T17:30:48.976695",
     "exception": false,
     "start_time": "2025-04-11T17:30:48.958201",
     "status": "completed"
    },
    "tags": []
   },
   "outputs": [
    {
     "name": "stdout",
     "output_type": "stream",
     "text": [
      "tensor([188., 182., 185., 191., 183.], dtype=torch.float64)\n"
     ]
    }
   ],
   "source": [
    "five_heights = heights_tensor[-5:]\n",
    "print(five_heights)"
   ]
  },
  {
   "cell_type": "markdown",
   "id": "a8b7643f",
   "metadata": {
    "papermill": {
     "duration": 0.007011,
     "end_time": "2025-04-11T17:30:48.991013",
     "exception": false,
     "start_time": "2025-04-11T17:30:48.984002",
     "status": "completed"
    },
    "tags": []
   },
   "source": [
    "## 1.3. PyTorch Tensor Shapes\n"
   ]
  },
  {
   "cell_type": "code",
   "execution_count": 10,
   "id": "fad175e4",
   "metadata": {
    "execution": {
     "iopub.execute_input": "2025-04-11T17:30:49.006370Z",
     "iopub.status.busy": "2025-04-11T17:30:49.005786Z",
     "iopub.status.idle": "2025-04-11T17:30:49.009579Z",
     "shell.execute_reply": "2025-04-11T17:30:49.008852Z"
    },
    "papermill": {
     "duration": 0.012603,
     "end_time": "2025-04-11T17:30:49.010719",
     "exception": false,
     "start_time": "2025-04-11T17:30:48.998116",
     "status": "completed"
    },
    "tags": []
   },
   "outputs": [
    {
     "name": "stdout",
     "output_type": "stream",
     "text": [
      "torch.Size([46])\n"
     ]
    }
   ],
   "source": [
    "print(heights_tensor.shape)"
   ]
  },
  {
   "cell_type": "code",
   "execution_count": 11,
   "id": "925eab14",
   "metadata": {
    "execution": {
     "iopub.execute_input": "2025-04-11T17:30:49.026046Z",
     "iopub.status.busy": "2025-04-11T17:30:49.025856Z",
     "iopub.status.idle": "2025-04-11T17:30:49.031394Z",
     "shell.execute_reply": "2025-04-11T17:30:49.030566Z"
    },
    "papermill": {
     "duration": 0.014363,
     "end_time": "2025-04-11T17:30:49.032461",
     "exception": false,
     "start_time": "2025-04-11T17:30:49.018098",
     "status": "completed"
    },
    "tags": []
   },
   "outputs": [
    {
     "name": "stdout",
     "output_type": "stream",
     "text": [
      "tensor([6.2008, 5.5774, 6.2008, 5.3478, 6.0039, 5.6102, 6.0696, 5.5118, 5.6759,\n",
      "        6.0039, 5.6759, 5.6759, 5.7415, 5.8399, 6.0039, 6.3320, 5.8399, 5.6759,\n",
      "        5.7087, 6.0039, 6.0039, 5.9055, 5.5118, 5.9055, 5.5774, 5.8399, 5.9711,\n",
      "        5.9055, 6.0039, 5.8399, 5.9711, 6.1680, 5.7415, 5.8727, 6.0039, 6.3320,\n",
      "        5.9711, 6.0039, 5.8071, 6.0696, 6.1680, 6.1680, 5.9711, 6.0696, 6.2664,\n",
      "        6.0039], dtype=torch.float64)\n"
     ]
    }
   ],
   "source": [
    "heights_in_feet = heights_tensor / 30.48\n",
    "print(heights_in_feet)"
   ]
  },
  {
   "cell_type": "code",
   "execution_count": 12,
   "id": "4773970a",
   "metadata": {
    "execution": {
     "iopub.execute_input": "2025-04-11T17:30:49.094482Z",
     "iopub.status.busy": "2025-04-11T17:30:49.094223Z",
     "iopub.status.idle": "2025-04-11T17:30:49.104732Z",
     "shell.execute_reply": "2025-04-11T17:30:49.103943Z"
    },
    "papermill": {
     "duration": 0.065877,
     "end_time": "2025-04-11T17:30:49.105843",
     "exception": false,
     "start_time": "2025-04-11T17:30:49.039966",
     "status": "completed"
    },
    "tags": []
   },
   "outputs": [
    {
     "name": "stdout",
     "output_type": "stream",
     "text": [
      "torch.Size([92])\n"
     ]
    }
   ],
   "source": [
    "heights_2_measures = torch.cat(\n",
    "    [heights_tensor,heights_in_feet], dim=0)\n",
    "print(heights_2_measures.shape)"
   ]
  },
  {
   "cell_type": "code",
   "execution_count": 13,
   "id": "8976700d",
   "metadata": {
    "execution": {
     "iopub.execute_input": "2025-04-11T17:30:49.121823Z",
     "iopub.status.busy": "2025-04-11T17:30:49.121614Z",
     "iopub.status.idle": "2025-04-11T17:30:49.126781Z",
     "shell.execute_reply": "2025-04-11T17:30:49.126088Z"
    },
    "papermill": {
     "duration": 0.014316,
     "end_time": "2025-04-11T17:30:49.127834",
     "exception": false,
     "start_time": "2025-04-11T17:30:49.113518",
     "status": "completed"
    },
    "tags": []
   },
   "outputs": [
    {
     "name": "stdout",
     "output_type": "stream",
     "text": [
      "tensor([[189.0000, 170.0000, 189.0000, 163.0000, 183.0000, 171.0000, 185.0000,\n",
      "         168.0000, 173.0000, 183.0000, 173.0000, 173.0000, 175.0000, 178.0000,\n",
      "         183.0000, 193.0000, 178.0000, 173.0000, 174.0000, 183.0000, 183.0000,\n",
      "         180.0000, 168.0000, 180.0000, 170.0000, 178.0000, 182.0000, 180.0000,\n",
      "         183.0000, 178.0000, 182.0000, 188.0000, 175.0000, 179.0000, 183.0000,\n",
      "         193.0000, 182.0000, 183.0000, 177.0000, 185.0000, 188.0000, 188.0000,\n",
      "         182.0000, 185.0000, 191.0000, 183.0000],\n",
      "        [  6.2008,   5.5774,   6.2008,   5.3478,   6.0039,   5.6102,   6.0696,\n",
      "           5.5118,   5.6759,   6.0039,   5.6759,   5.6759,   5.7415,   5.8399,\n",
      "           6.0039,   6.3320,   5.8399,   5.6759,   5.7087,   6.0039,   6.0039,\n",
      "           5.9055,   5.5118,   5.9055,   5.5774,   5.8399,   5.9711,   5.9055,\n",
      "           6.0039,   5.8399,   5.9711,   6.1680,   5.7415,   5.8727,   6.0039,\n",
      "           6.3320,   5.9711,   6.0039,   5.8071,   6.0696,   6.1680,   6.1680,\n",
      "           5.9711,   6.0696,   6.2664,   6.0039]], dtype=torch.float64)\n"
     ]
    }
   ],
   "source": [
    "heights_reshaped = heights_2_measures.reshape(2, 46)\n",
    "print(heights_reshaped)"
   ]
  },
  {
   "cell_type": "code",
   "execution_count": 14,
   "id": "6a74c62d",
   "metadata": {
    "execution": {
     "iopub.execute_input": "2025-04-11T17:30:49.144262Z",
     "iopub.status.busy": "2025-04-11T17:30:49.144052Z",
     "iopub.status.idle": "2025-04-11T17:30:49.148299Z",
     "shell.execute_reply": "2025-04-11T17:30:49.147646Z"
    },
    "papermill": {
     "duration": 0.013661,
     "end_time": "2025-04-11T17:30:49.149410",
     "exception": false,
     "start_time": "2025-04-11T17:30:49.135749",
     "status": "completed"
    },
    "tags": []
   },
   "outputs": [
    {
     "name": "stdout",
     "output_type": "stream",
     "text": [
      "tensor(6.2664, dtype=torch.float64)\n"
     ]
    }
   ],
   "source": [
    "print(heights_reshaped[1,-2])"
   ]
  },
  {
   "cell_type": "code",
   "execution_count": 15,
   "id": "7f77c2c3",
   "metadata": {
    "execution": {
     "iopub.execute_input": "2025-04-11T17:30:49.165183Z",
     "iopub.status.busy": "2025-04-11T17:30:49.164978Z",
     "iopub.status.idle": "2025-04-11T17:30:49.169319Z",
     "shell.execute_reply": "2025-04-11T17:30:49.168720Z"
    },
    "papermill": {
     "duration": 0.013351,
     "end_time": "2025-04-11T17:30:49.170337",
     "exception": false,
     "start_time": "2025-04-11T17:30:49.156986",
     "status": "completed"
    },
    "tags": []
   },
   "outputs": [
    {
     "name": "stdout",
     "output_type": "stream",
     "text": [
      "tensor(6.2664, dtype=torch.float64)\n"
     ]
    }
   ],
   "source": [
    "print(heights_reshaped[1,-2])"
   ]
  },
  {
   "cell_type": "markdown",
   "id": "55703444",
   "metadata": {
    "papermill": {
     "duration": 0.007555,
     "end_time": "2025-04-11T17:30:49.185492",
     "exception": false,
     "start_time": "2025-04-11T17:30:49.177937",
     "status": "completed"
    },
    "tags": []
   },
   "source": [
    "## 1.4. Mathematical Operations on PyTorch Tensors\n",
    "We can conduct mathematical operations on PyTorch tensors by using different methods such as mean(), median(), sum(), max(), and so on. For example, to find the median height of the 46 presidents in centimeters, we can do this:"
   ]
  },
  {
   "cell_type": "code",
   "execution_count": 16,
   "id": "3ede5988",
   "metadata": {
    "execution": {
     "iopub.execute_input": "2025-04-11T17:30:49.201612Z",
     "iopub.status.busy": "2025-04-11T17:30:49.201396Z",
     "iopub.status.idle": "2025-04-11T17:30:49.212494Z",
     "shell.execute_reply": "2025-04-11T17:30:49.211800Z"
    },
    "papermill": {
     "duration": 0.020499,
     "end_time": "2025-04-11T17:30:49.213613",
     "exception": false,
     "start_time": "2025-04-11T17:30:49.193114",
     "status": "completed"
    },
    "tags": []
   },
   "outputs": [
    {
     "name": "stdout",
     "output_type": "stream",
     "text": [
      "tensor(182., dtype=torch.float64)\n"
     ]
    }
   ],
   "source": [
    "print(torch.median(heights_reshaped[0,:]))"
   ]
  },
  {
   "cell_type": "code",
   "execution_count": 17,
   "id": "6cf4a15a",
   "metadata": {
    "execution": {
     "iopub.execute_input": "2025-04-11T17:30:49.229519Z",
     "iopub.status.busy": "2025-04-11T17:30:49.229332Z",
     "iopub.status.idle": "2025-04-11T17:30:49.234566Z",
     "shell.execute_reply": "2025-04-11T17:30:49.233955Z"
    },
    "papermill": {
     "duration": 0.014463,
     "end_time": "2025-04-11T17:30:49.235646",
     "exception": false,
     "start_time": "2025-04-11T17:30:49.221183",
     "status": "completed"
    },
    "tags": []
   },
   "outputs": [
    {
     "name": "stdout",
     "output_type": "stream",
     "text": [
      "tensor([180.0652,   5.9077], dtype=torch.float64)\n"
     ]
    }
   ],
   "source": [
    "print(torch.mean(heights_reshaped,dim=1))"
   ]
  },
  {
   "cell_type": "code",
   "execution_count": 18,
   "id": "003c9fbc",
   "metadata": {
    "execution": {
     "iopub.execute_input": "2025-04-11T17:30:49.251828Z",
     "iopub.status.busy": "2025-04-11T17:30:49.251637Z",
     "iopub.status.idle": "2025-04-11T17:30:49.260266Z",
     "shell.execute_reply": "2025-04-11T17:30:49.259613Z"
    },
    "papermill": {
     "duration": 0.018233,
     "end_time": "2025-04-11T17:30:49.261500",
     "exception": false,
     "start_time": "2025-04-11T17:30:49.243267",
     "status": "completed"
    },
    "tags": []
   },
   "outputs": [
    {
     "name": "stdout",
     "output_type": "stream",
     "text": [
      "tensor([193.0000,   6.3320], dtype=torch.float64)\n",
      "tensor([15, 15])\n"
     ]
    }
   ],
   "source": [
    "values, indices = torch.max(heights_reshaped, dim=1)\n",
    "print(values)\n",
    "print(indices)"
   ]
  },
  {
   "cell_type": "markdown",
   "id": "8a13aa90",
   "metadata": {
    "papermill": {
     "duration": 0.007608,
     "end_time": "2025-04-11T17:30:49.276991",
     "exception": false,
     "start_time": "2025-04-11T17:30:49.269383",
     "status": "completed"
    },
    "tags": []
   },
   "source": [
    "# 2. An End-to-End Deep Learning Project with PyTorch"
   ]
  },
  {
   "cell_type": "markdown",
   "id": "efa064a8",
   "metadata": {
    "papermill": {
     "duration": 0.007706,
     "end_time": "2025-04-11T17:30:49.292516",
     "exception": false,
     "start_time": "2025-04-11T17:30:49.284810",
     "status": "completed"
    },
    "tags": []
   },
   "source": [
    "## 2.1. Download and Visualize the Data\n",
    "You can download the Fashion MNIST data directly from Torchvision datasets. "
   ]
  },
  {
   "cell_type": "code",
   "execution_count": 19,
   "id": "3c429cc4",
   "metadata": {
    "execution": {
     "iopub.execute_input": "2025-04-11T17:30:49.308793Z",
     "iopub.status.busy": "2025-04-11T17:30:49.308600Z",
     "iopub.status.idle": "2025-04-11T17:30:54.245168Z",
     "shell.execute_reply": "2025-04-11T17:30:54.244327Z"
    },
    "papermill": {
     "duration": 4.946325,
     "end_time": "2025-04-11T17:30:54.246632",
     "exception": false,
     "start_time": "2025-04-11T17:30:49.300307",
     "status": "completed"
    },
    "tags": []
   },
   "outputs": [],
   "source": [
    "import torch\n",
    "import torch.nn as nn\n",
    "import torchvision\n",
    "import torchvision.transforms as T\n",
    "\n",
    "torch.manual_seed(42)\n",
    "transform=T.Compose([\n",
    "    T.ToTensor(),\n",
    "    T.Normalize([0.5],[0.5])])"
   ]
  },
  {
   "cell_type": "code",
   "execution_count": 20,
   "id": "bf652b77",
   "metadata": {
    "execution": {
     "iopub.execute_input": "2025-04-11T17:30:54.265640Z",
     "iopub.status.busy": "2025-04-11T17:30:54.265330Z",
     "iopub.status.idle": "2025-04-11T17:30:55.601054Z",
     "shell.execute_reply": "2025-04-11T17:30:55.600493Z"
    },
    "papermill": {
     "duration": 1.346805,
     "end_time": "2025-04-11T17:30:55.602326",
     "exception": false,
     "start_time": "2025-04-11T17:30:54.255521",
     "status": "completed"
    },
    "tags": []
   },
   "outputs": [
    {
     "name": "stdout",
     "output_type": "stream",
     "text": [
      "Downloading http://fashion-mnist.s3-website.eu-central-1.amazonaws.com/train-images-idx3-ubyte.gz\n",
      "Downloading http://fashion-mnist.s3-website.eu-central-1.amazonaws.com/train-images-idx3-ubyte.gz to ./FashionMNIST/raw/train-images-idx3-ubyte.gz\n"
     ]
    },
    {
     "name": "stderr",
     "output_type": "stream",
     "text": [
      "100%|██████████| 26.4M/26.4M [00:00<00:00, 115MB/s]\n"
     ]
    },
    {
     "name": "stdout",
     "output_type": "stream",
     "text": [
      "Extracting ./FashionMNIST/raw/train-images-idx3-ubyte.gz to ./FashionMNIST/raw\n",
      "\n",
      "Downloading http://fashion-mnist.s3-website.eu-central-1.amazonaws.com/train-labels-idx1-ubyte.gz\n",
      "Downloading http://fashion-mnist.s3-website.eu-central-1.amazonaws.com/train-labels-idx1-ubyte.gz to ./FashionMNIST/raw/train-labels-idx1-ubyte.gz\n"
     ]
    },
    {
     "name": "stderr",
     "output_type": "stream",
     "text": [
      "100%|██████████| 29.5k/29.5k [00:00<00:00, 3.98MB/s]"
     ]
    },
    {
     "name": "stdout",
     "output_type": "stream",
     "text": [
      "Extracting ./FashionMNIST/raw/train-labels-idx1-ubyte.gz to ./FashionMNIST/raw\n",
      "\n",
      "Downloading http://fashion-mnist.s3-website.eu-central-1.amazonaws.com/t10k-images-idx3-ubyte.gz\n",
      "Downloading http://fashion-mnist.s3-website.eu-central-1.amazonaws.com/t10k-images-idx3-ubyte.gz to ./FashionMNIST/raw/t10k-images-idx3-ubyte.gz\n"
     ]
    },
    {
     "name": "stderr",
     "output_type": "stream",
     "text": [
      "\n",
      "100%|██████████| 4.42M/4.42M [00:00<00:00, 60.2MB/s]\n"
     ]
    },
    {
     "name": "stdout",
     "output_type": "stream",
     "text": [
      "Extracting ./FashionMNIST/raw/t10k-images-idx3-ubyte.gz to ./FashionMNIST/raw\n",
      "\n",
      "Downloading http://fashion-mnist.s3-website.eu-central-1.amazonaws.com/t10k-labels-idx1-ubyte.gz\n",
      "Downloading http://fashion-mnist.s3-website.eu-central-1.amazonaws.com/t10k-labels-idx1-ubyte.gz to ./FashionMNIST/raw/t10k-labels-idx1-ubyte.gz\n"
     ]
    },
    {
     "name": "stderr",
     "output_type": "stream",
     "text": [
      "100%|██████████| 5.15k/5.15k [00:00<00:00, 10.5MB/s]\n"
     ]
    },
    {
     "name": "stdout",
     "output_type": "stream",
     "text": [
      "Extracting ./FashionMNIST/raw/t10k-labels-idx1-ubyte.gz to ./FashionMNIST/raw\n",
      "\n"
     ]
    }
   ],
   "source": [
    "train_set=torchvision.datasets.FashionMNIST(    #A\n",
    "    root=\".\",    #B\n",
    "    train=True,    #C\n",
    "    download=True,    #D\n",
    "    transform=transform)    #E\n",
    "test_set=torchvision.datasets.FashionMNIST(root=\".\",\n",
    "    train=False,download=True,transform=transform)"
   ]
  },
  {
   "cell_type": "code",
   "execution_count": 21,
   "id": "64c686cf",
   "metadata": {
    "execution": {
     "iopub.execute_input": "2025-04-11T17:30:55.621338Z",
     "iopub.status.busy": "2025-04-11T17:30:55.620840Z",
     "iopub.status.idle": "2025-04-11T17:30:55.635386Z",
     "shell.execute_reply": "2025-04-11T17:30:55.634483Z"
    },
    "papermill": {
     "duration": 0.02486,
     "end_time": "2025-04-11T17:30:55.636576",
     "exception": false,
     "start_time": "2025-04-11T17:30:55.611716",
     "status": "completed"
    },
    "tags": []
   },
   "outputs": [
    {
     "name": "stdout",
     "output_type": "stream",
     "text": [
      "(tensor([[[-1.0000, -1.0000, -1.0000, -1.0000, -1.0000, -1.0000, -1.0000,\n",
      "          -1.0000, -1.0000, -1.0000, -1.0000, -1.0000, -1.0000, -1.0000,\n",
      "          -1.0000, -1.0000, -1.0000, -1.0000, -1.0000, -1.0000, -1.0000,\n",
      "          -1.0000, -1.0000, -1.0000, -1.0000, -1.0000, -1.0000, -1.0000],\n",
      "         [-1.0000, -1.0000, -1.0000, -1.0000, -1.0000, -1.0000, -1.0000,\n",
      "          -1.0000, -1.0000, -1.0000, -1.0000, -1.0000, -1.0000, -1.0000,\n",
      "          -1.0000, -1.0000, -1.0000, -1.0000, -1.0000, -1.0000, -1.0000,\n",
      "          -1.0000, -1.0000, -1.0000, -1.0000, -1.0000, -1.0000, -1.0000],\n",
      "         [-1.0000, -1.0000, -1.0000, -1.0000, -1.0000, -1.0000, -1.0000,\n",
      "          -1.0000, -1.0000, -1.0000, -1.0000, -1.0000, -1.0000, -1.0000,\n",
      "          -1.0000, -1.0000, -1.0000, -1.0000, -1.0000, -1.0000, -1.0000,\n",
      "          -1.0000, -1.0000, -1.0000, -1.0000, -1.0000, -1.0000, -1.0000],\n",
      "         [-1.0000, -1.0000, -1.0000, -1.0000, -1.0000, -1.0000, -1.0000,\n",
      "          -1.0000, -1.0000, -1.0000, -1.0000, -1.0000, -0.9922, -1.0000,\n",
      "          -1.0000, -0.8980, -0.4275, -1.0000, -1.0000, -0.9922, -0.9686,\n",
      "          -1.0000, -1.0000, -1.0000, -1.0000, -0.9922, -0.9922, -1.0000],\n",
      "         [-1.0000, -1.0000, -1.0000, -1.0000, -1.0000, -1.0000, -1.0000,\n",
      "          -1.0000, -1.0000, -1.0000, -1.0000, -1.0000, -0.9765, -1.0000,\n",
      "          -0.7176,  0.0667, -0.0039, -0.5137, -0.5765, -1.0000, -1.0000,\n",
      "          -1.0000, -0.9922, -0.9765, -0.9686, -1.0000, -1.0000, -0.9765],\n",
      "         [-1.0000, -1.0000, -1.0000, -1.0000, -1.0000, -1.0000, -1.0000,\n",
      "          -1.0000, -1.0000, -1.0000, -1.0000, -1.0000, -0.9529, -1.0000,\n",
      "          -0.2000,  0.6000,  0.3804,  0.0510,  0.1294, -0.0353, -0.8196,\n",
      "          -1.0000, -1.0000, -1.0000, -1.0000, -0.9059, -0.9216, -1.0000],\n",
      "         [-1.0000, -1.0000, -1.0000, -1.0000, -1.0000, -1.0000, -1.0000,\n",
      "          -1.0000, -1.0000, -1.0000, -1.0000, -1.0000, -1.0000, -1.0000,\n",
      "           0.2157,  0.8510,  0.6235,  0.3961, -0.1608,  0.2235,  0.2627,\n",
      "          -0.1451, -0.4980, -0.8196, -0.3961,  0.0196, -0.4353, -0.8824],\n",
      "         [-1.0000, -1.0000, -1.0000, -1.0000, -1.0000, -1.0000, -1.0000,\n",
      "          -1.0000, -1.0000, -1.0000, -1.0000, -0.9922, -1.0000, -0.4588,\n",
      "           0.6235,  0.7490,  0.7098,  0.6941,  0.6941,  0.2784, -0.0039,\n",
      "          -0.0510, -0.0431,  0.1451,  0.1059, -0.3098,  0.3490, -0.4824],\n",
      "         [-1.0000, -1.0000, -1.0000, -1.0000, -1.0000, -1.0000, -1.0000,\n",
      "          -1.0000, -1.0000, -0.9922, -0.9922, -0.9922, -1.0000,  0.5686,\n",
      "           0.8196,  0.8196,  0.8275,  0.7961,  0.7490,  0.7490,  0.6863,\n",
      "           0.6706,  0.2863, -0.0039, -0.0353,  0.5373,  0.7961, -1.0000],\n",
      "         [-1.0000, -1.0000, -1.0000, -1.0000, -1.0000, -1.0000, -1.0000,\n",
      "          -1.0000, -1.0000, -1.0000, -1.0000, -1.0000, -1.0000,  0.4353,\n",
      "           0.7647,  0.6941,  0.7490,  0.7882,  0.8431,  0.7804,  0.7569,\n",
      "           0.7412,  0.7569,  0.7333,  0.7490,  0.9216,  0.3569, -1.0000],\n",
      "         [-1.0000, -1.0000, -1.0000, -1.0000, -1.0000, -1.0000, -1.0000,\n",
      "          -1.0000, -1.0000, -1.0000, -1.0000, -1.0000, -1.0000,  0.5137,\n",
      "           0.7882,  0.7098,  0.6706,  0.5529,  0.4118,  0.6627,  0.6471,\n",
      "           0.6549,  0.6706,  0.7490,  0.7255,  0.9059,  0.5843, -1.0000],\n",
      "         [-1.0000, -1.0000, -1.0000, -1.0000, -1.0000, -1.0000, -1.0000,\n",
      "          -1.0000, -1.0000, -0.9922, -0.9765, -1.0000, -0.9059,  0.7176,\n",
      "           0.7255,  0.6627,  0.7098,  0.5059,  0.3255,  0.7804,  0.6314,\n",
      "           0.7098,  0.7569,  0.6627,  0.7725,  0.5451,  0.6392, -0.5922],\n",
      "         [-1.0000, -1.0000, -1.0000, -1.0000, -1.0000, -1.0000, -1.0000,\n",
      "          -1.0000, -1.0000, -1.0000, -0.9529, -1.0000, -0.2235,  0.9137,\n",
      "           0.7412,  0.7255,  0.7098,  0.5922,  0.5529,  0.7333,  0.6863,\n",
      "           0.6706,  0.7412,  0.7255,  0.9216, -0.0667,  0.3098, -0.5608],\n",
      "         [-1.0000, -1.0000, -1.0000, -1.0000, -1.0000, -1.0000, -1.0000,\n",
      "          -1.0000, -1.0000, -0.9686, -1.0000, -1.0000, -0.5686,  0.8510,\n",
      "           0.7882,  0.8039,  0.7882,  0.8824,  0.8196,  0.6706,  0.7098,\n",
      "           0.7490,  0.8353,  0.7020,  0.7020,  0.6392, -0.2784, -1.0000],\n",
      "         [-1.0000, -1.0000, -0.9922, -0.9686, -0.9529, -0.9451, -0.9843,\n",
      "          -1.0000, -1.0000, -1.0000, -1.0000, -1.0000,  0.8588,  0.7725,\n",
      "           0.7020,  0.7490,  0.7412,  0.7176,  0.7412,  0.7333,  0.6941,\n",
      "           0.7490,  0.7961,  0.6863,  0.7098,  1.0000, -0.3961, -1.0000],\n",
      "         [-1.0000, -0.9765, -1.0000, -1.0000, -1.0000, -1.0000, -1.0000,\n",
      "          -1.0000, -1.0000, -0.5137,  0.1373,  0.6000,  0.7882,  0.6235,\n",
      "           0.6706,  0.7333,  0.7098,  0.6314,  0.6549,  0.7098,  0.7569,\n",
      "           0.7490,  0.7176,  0.6863,  0.7569,  0.9137,  0.2471, -1.0000],\n",
      "         [-1.0000, -1.0000, -1.0000, -1.0000, -0.8588, -0.6549, -0.3569,\n",
      "          -0.1608,  0.4824,  0.7882,  0.7255,  0.7412,  0.7020,  0.7725,\n",
      "           0.5686,  0.6078,  0.6549,  0.8039,  0.7569,  0.8353,  0.3804,\n",
      "           0.4745,  0.9608,  0.9451,  0.8275,  0.8667,  0.6863, -1.0000],\n",
      "         [-1.0000, -0.5529,  0.4667,  0.6314,  0.7569,  0.7333,  0.7569,\n",
      "           0.6314,  0.6000,  0.6784,  0.6314,  0.6392,  0.5686,  0.2471,\n",
      "           0.9216,  0.5137,  0.6157,  0.7490,  1.0000,  1.0000,  0.7333,\n",
      "           0.8353,  0.7333,  0.6549,  0.7255,  0.8196,  0.9294, -1.0000],\n",
      "         [-0.9765,  0.5843,  0.7882,  0.7569,  0.7333,  0.6549,  0.6549,\n",
      "           0.6784,  0.6078,  0.6078,  0.6078,  0.7255,  0.8824, -0.3725,\n",
      "           0.1765,  1.0000,  0.7961,  0.7333,  0.4745,  0.2078,  0.4980,\n",
      "           0.6471,  0.6000,  0.6392,  0.7412,  0.7882,  0.7647, -1.0000],\n",
      "         [-0.2314,  0.8275,  0.5529,  0.6471,  0.7412,  0.7961,  0.7961,\n",
      "           0.8353,  0.9529,  0.7255,  0.5216,  0.6863,  0.7020,  0.8902,\n",
      "          -0.4902, -0.4275, -0.1686, -0.0824,  0.3176,  0.7176,  0.7333,\n",
      "           0.6863,  0.7020,  0.7490,  0.7490,  0.7569,  0.7961, -0.7725],\n",
      "         [-0.4118,  0.6000,  0.6627,  0.6000,  0.5137,  0.6078,  0.6549,\n",
      "           0.7647,  0.6941,  0.4510,  0.5451,  0.6157,  0.5529,  0.6706,\n",
      "           0.8824,  0.5294,  0.7804,  0.9216,  0.8745,  0.7490,  0.7098,\n",
      "           0.6627,  0.6392,  0.7412,  0.7255,  0.7333,  0.8039, -0.4745],\n",
      "         [-0.6235,  0.5922,  0.4353,  0.5216,  0.6706,  0.5451,  0.4510,\n",
      "           0.4902,  0.5216,  0.5059,  0.5843,  0.6784,  0.7176,  0.7333,\n",
      "           0.7255,  0.8510,  0.7647,  0.6941,  0.5608,  0.6157,  0.4588,\n",
      "           0.4196,  0.3882,  0.3490,  0.4196,  0.6078,  0.6157, -0.0980],\n",
      "         [-1.0000, -0.0431,  0.7176,  0.5137,  0.4039,  0.3412,  0.4353,\n",
      "           0.5373,  0.6000,  0.6471,  0.6706,  0.6235,  0.6549,  0.6471,\n",
      "           0.5686,  0.5373,  0.5216,  0.4980,  0.5294,  0.4980,  0.5529,\n",
      "           0.5059,  0.3804,  0.2235,  0.3098,  0.3882,  0.6471, -0.2784],\n",
      "         [-1.0000, -1.0000, -0.4196,  0.4824,  0.6627,  0.4980,  0.3725,\n",
      "           0.3490,  0.3725,  0.4196,  0.4510,  0.4745,  0.4824,  0.4745,\n",
      "           0.5137,  0.5529,  0.6000,  0.6392,  0.6471,  0.6471,  0.6549,\n",
      "           0.4745,  0.4745,  0.5216,  0.5059,  0.6941,  0.3333, -1.0000],\n",
      "         [-0.9843, -1.0000, -1.0000, -1.0000, -0.4824,  0.5686,  0.7412,\n",
      "           0.8588,  0.8745,  0.8980,  0.9294,  0.9059,  0.9137,  0.7333,\n",
      "           0.7255,  0.5137,  0.4980,  0.4039,  0.4275,  0.4275,  0.4196,\n",
      "           0.3804,  0.3020,  0.3176, -0.2235, -0.5451, -1.0000, -1.0000],\n",
      "         [-1.0000, -1.0000, -1.0000, -1.0000, -1.0000, -1.0000, -1.0000,\n",
      "          -0.6863, -0.5216, -0.6549, -0.4353, -0.6784, -0.7255, -1.0000,\n",
      "          -1.0000, -1.0000, -1.0000, -1.0000, -1.0000, -1.0000, -1.0000,\n",
      "          -1.0000, -1.0000, -1.0000, -1.0000, -1.0000, -1.0000, -1.0000],\n",
      "         [-1.0000, -1.0000, -1.0000, -1.0000, -1.0000, -1.0000, -1.0000,\n",
      "          -1.0000, -1.0000, -1.0000, -1.0000, -1.0000, -1.0000, -1.0000,\n",
      "          -1.0000, -1.0000, -1.0000, -1.0000, -1.0000, -1.0000, -1.0000,\n",
      "          -1.0000, -1.0000, -1.0000, -1.0000, -1.0000, -1.0000, -1.0000],\n",
      "         [-1.0000, -1.0000, -1.0000, -1.0000, -1.0000, -1.0000, -1.0000,\n",
      "          -1.0000, -1.0000, -1.0000, -1.0000, -1.0000, -1.0000, -1.0000,\n",
      "          -1.0000, -1.0000, -1.0000, -1.0000, -1.0000, -1.0000, -1.0000,\n",
      "          -1.0000, -1.0000, -1.0000, -1.0000, -1.0000, -1.0000, -1.0000]]]), 9)\n"
     ]
    }
   ],
   "source": [
    "print(train_set[0])"
   ]
  },
  {
   "cell_type": "code",
   "execution_count": 22,
   "id": "f0e994e0",
   "metadata": {
    "execution": {
     "iopub.execute_input": "2025-04-11T17:30:55.654600Z",
     "iopub.status.busy": "2025-04-11T17:30:55.654415Z",
     "iopub.status.idle": "2025-04-11T17:30:55.657801Z",
     "shell.execute_reply": "2025-04-11T17:30:55.657160Z"
    },
    "papermill": {
     "duration": 0.013492,
     "end_time": "2025-04-11T17:30:55.658914",
     "exception": false,
     "start_time": "2025-04-11T17:30:55.645422",
     "status": "completed"
    },
    "tags": []
   },
   "outputs": [],
   "source": [
    "# got labels here https://github.com/pranay414/Fashion-MNIST-Pytorch \n",
    "text_labels = ['t-shirt', 'trouser', 'pullover', 'dress', 'coat',\n",
    "                'sandal', 'shirt', 'sneaker', 'bag', 'ankle boot']"
   ]
  },
  {
   "cell_type": "code",
   "execution_count": 23,
   "id": "2f6fb808",
   "metadata": {
    "execution": {
     "iopub.execute_input": "2025-04-11T17:30:55.676948Z",
     "iopub.status.busy": "2025-04-11T17:30:55.676760Z",
     "iopub.status.idle": "2025-04-11T17:30:56.899835Z",
     "shell.execute_reply": "2025-04-11T17:30:56.899072Z"
    },
    "papermill": {
     "duration": 1.234289,
     "end_time": "2025-04-11T17:30:56.901852",
     "exception": false,
     "start_time": "2025-04-11T17:30:55.667563",
     "status": "completed"
    },
    "tags": []
   },
   "outputs": [
    {
     "data": {
      "image/png": "[encoded data removed]",
      "text/plain": [
       "<Figure size 2400x1200 with 24 Axes>"
      ]
     },
     "metadata": {},
     "output_type": "display_data"
    }
   ],
   "source": [
    "import matplotlib.pyplot as plt\n",
    "\n",
    "plt.figure(dpi=300,figsize=(8,4))\n",
    "for i in range(24):\n",
    "    ax=plt.subplot(3, 8, i + 1)    #A\n",
    "    img=train_set[i][0]    #B\n",
    "    img=img/2+0.5    #C\n",
    "    img=img.reshape(28, 28)    #D\n",
    "    plt.imshow(img,\n",
    "               cmap=\"binary\")\n",
    "    plt.axis('off')\n",
    "    plt.title(text_labels[train_set[i][1]],    #E\n",
    "        fontsize=8)\n",
    "plt.show()"
   ]
  },
  {
   "cell_type": "markdown",
   "id": "620c23fd",
   "metadata": {
    "papermill": {
     "duration": 0.010104,
     "end_time": "2025-04-11T17:30:56.922781",
     "exception": false,
     "start_time": "2025-04-11T17:30:56.912677",
     "status": "completed"
    },
    "tags": []
   },
   "source": [
    "## 2.2. Create Batches \n"
   ]
  },
  {
   "cell_type": "code",
   "execution_count": 24,
   "id": "15cf5ee2",
   "metadata": {
    "execution": {
     "iopub.execute_input": "2025-04-11T17:30:56.943940Z",
     "iopub.status.busy": "2025-04-11T17:30:56.943743Z",
     "iopub.status.idle": "2025-04-11T17:31:08.261097Z",
     "shell.execute_reply": "2025-04-11T17:31:08.260542Z"
    },
    "papermill": {
     "duration": 11.329313,
     "end_time": "2025-04-11T17:31:08.262501",
     "exception": false,
     "start_time": "2025-04-11T17:30:56.933188",
     "status": "completed"
    },
    "tags": []
   },
   "outputs": [],
   "source": [
    "binary_train_set = [x for x in train_set if x[1] in [0,9]]\n",
    "binary_test_set = [x for x in test_set if x[1] in [0,9]]"
   ]
  },
  {
   "cell_type": "markdown",
   "id": "e726fffb",
   "metadata": {
    "papermill": {
     "duration": 0.009817,
     "end_time": "2025-04-11T17:31:08.282678",
     "exception": false,
     "start_time": "2025-04-11T17:31:08.272861",
     "status": "completed"
    },
    "tags": []
   },
   "source": [
    "We only keep samples with labels 0 or 9. Let's check the sample size as follows:"
   ]
  },
  {
   "cell_type": "code",
   "execution_count": 25,
   "id": "be512d41",
   "metadata": {
    "execution": {
     "iopub.execute_input": "2025-04-11T17:31:08.303510Z",
     "iopub.status.busy": "2025-04-11T17:31:08.303233Z",
     "iopub.status.idle": "2025-04-11T17:31:08.307362Z",
     "shell.execute_reply": "2025-04-11T17:31:08.306770Z"
    },
    "papermill": {
     "duration": 0.01585,
     "end_time": "2025-04-11T17:31:08.308399",
     "exception": false,
     "start_time": "2025-04-11T17:31:08.292549",
     "status": "completed"
    },
    "tags": []
   },
   "outputs": [],
   "source": [
    "batch_size=64\n",
    "binary_train_loader=torch.utils.data.DataLoader(\n",
    "    binary_train_set,    #A\n",
    "    batch_size=batch_size,    #B\n",
    "    shuffle=True)    #C\n",
    "binary_test_loader=torch.utils.data.DataLoader(\n",
    "    binary_test_set,    #D\n",
    "    batch_size=batch_size,shuffle=True)"
   ]
  },
  {
   "cell_type": "markdown",
   "id": "3f149a21",
   "metadata": {
    "papermill": {
     "duration": 0.009646,
     "end_time": "2025-04-11T17:31:08.327748",
     "exception": false,
     "start_time": "2025-04-11T17:31:08.318102",
     "status": "completed"
    },
    "tags": []
   },
   "source": [
    "# 3. Binary Classification "
   ]
  },
  {
   "cell_type": "markdown",
   "id": "a4365937",
   "metadata": {
    "papermill": {
     "duration": 0.00967,
     "end_time": "2025-04-11T17:31:08.347023",
     "exception": false,
     "start_time": "2025-04-11T17:31:08.337353",
     "status": "completed"
    },
    "tags": []
   },
   "source": [
    "## 3.1. Create A Neural Network for Binary Classification"
   ]
  },
  {
   "cell_type": "code",
   "execution_count": 26,
   "id": "bbce9735",
   "metadata": {
    "execution": {
     "iopub.execute_input": "2025-04-11T17:31:08.368044Z",
     "iopub.status.busy": "2025-04-11T17:31:08.367403Z",
     "iopub.status.idle": "2025-04-11T17:31:08.592484Z",
     "shell.execute_reply": "2025-04-11T17:31:08.591880Z"
    },
    "papermill": {
     "duration": 0.236819,
     "end_time": "2025-04-11T17:31:08.593735",
     "exception": false,
     "start_time": "2025-04-11T17:31:08.356916",
     "status": "completed"
    },
    "tags": []
   },
   "outputs": [],
   "source": [
    "device=\"cuda\" if torch.cuda.is_available() else \"cpu\"    #A\n",
    "\n",
    "binary_model=nn.Sequential(    #B\n",
    "    nn.Linear(28*28,256),    #C\n",
    "    nn.ReLU(),    #D\n",
    "    nn.Linear(256,128),\n",
    "    nn.ReLU(),\n",
    "    nn.Linear(128,32),\n",
    "    nn.ReLU(),\n",
    "    nn.Linear(32,1),\n",
    "    nn.Dropout(p=0.25),\n",
    "    nn.Sigmoid()).to(device)    #E"
   ]
  },
  {
   "cell_type": "code",
   "execution_count": 27,
   "id": "70e99949",
   "metadata": {
    "execution": {
     "iopub.execute_input": "2025-04-11T17:31:08.614728Z",
     "iopub.status.busy": "2025-04-11T17:31:08.614528Z",
     "iopub.status.idle": "2025-04-11T17:31:08.618323Z",
     "shell.execute_reply": "2025-04-11T17:31:08.617764Z"
    },
    "papermill": {
     "duration": 0.015248,
     "end_time": "2025-04-11T17:31:08.619297",
     "exception": false,
     "start_time": "2025-04-11T17:31:08.604049",
     "status": "completed"
    },
    "tags": []
   },
   "outputs": [],
   "source": [
    "lr=0.001\n",
    "optimizer=torch.optim.Adam(binary_model.parameters(),lr=lr)\n",
    "loss_fn=nn.BCELoss()"
   ]
  },
  {
   "cell_type": "markdown",
   "id": "16c2703d",
   "metadata": {
    "papermill": {
     "duration": 0.009629,
     "end_time": "2025-04-11T17:31:08.638679",
     "exception": false,
     "start_time": "2025-04-11T17:31:08.629050",
     "status": "completed"
    },
    "tags": []
   },
   "source": [
    "## 3.2. Train the Binary Classifier\n"
   ]
  },
  {
   "cell_type": "code",
   "execution_count": 28,
   "id": "bf70f379",
   "metadata": {
    "execution": {
     "iopub.execute_input": "2025-04-11T17:31:08.658778Z",
     "iopub.status.busy": "2025-04-11T17:31:08.658598Z",
     "iopub.status.idle": "2025-04-11T17:31:30.721819Z",
     "shell.execute_reply": "2025-04-11T17:31:30.720965Z"
    },
    "papermill": {
     "duration": 22.074697,
     "end_time": "2025-04-11T17:31:30.723057",
     "exception": false,
     "start_time": "2025-04-11T17:31:08.648360",
     "status": "completed"
    },
    "tags": []
   },
   "outputs": [
    {
     "name": "stdout",
     "output_type": "stream",
     "text": [
      "at epoch 0, loss is 0.19023607671260834\n",
      "at epoch 1, loss is 0.17607159912586212\n",
      "at epoch 2, loss is 0.1800561249256134\n",
      "at epoch 3, loss is 0.17833466827869415\n",
      "at epoch 4, loss is 0.17326126992702484\n",
      "at epoch 5, loss is 0.17811772227287292\n",
      "at epoch 6, loss is 0.175819993019104\n",
      "at epoch 7, loss is 0.172201007604599\n",
      "at epoch 8, loss is 0.17624734342098236\n",
      "at epoch 9, loss is 0.1770370900630951\n",
      "at epoch 10, loss is 0.1757885366678238\n",
      "at epoch 11, loss is 0.17163705825805664\n",
      "at epoch 12, loss is 0.17277421057224274\n",
      "at epoch 13, loss is 0.1769046038389206\n",
      "at epoch 14, loss is 0.17752273380756378\n",
      "at epoch 15, loss is 0.17560498416423798\n",
      "at epoch 16, loss is 0.1805746704339981\n",
      "at epoch 17, loss is 0.1734013706445694\n",
      "at epoch 18, loss is 0.1769118458032608\n",
      "at epoch 19, loss is 0.17252278327941895\n",
      "at epoch 20, loss is 0.17653478682041168\n",
      "at epoch 21, loss is 0.1795949786901474\n",
      "at epoch 22, loss is 0.17395101487636566\n",
      "at epoch 23, loss is 0.17705121636390686\n",
      "at epoch 24, loss is 0.17693862318992615\n",
      "at epoch 25, loss is 0.17630071938037872\n",
      "at epoch 26, loss is 0.17855873703956604\n",
      "at epoch 27, loss is 0.17699432373046875\n",
      "at epoch 28, loss is 0.17502500116825104\n",
      "at epoch 29, loss is 0.17265014350414276\n",
      "at epoch 30, loss is 0.17450352013111115\n",
      "at epoch 31, loss is 0.1726500391960144\n",
      "at epoch 32, loss is 0.17015953361988068\n",
      "at epoch 33, loss is 0.1723022758960724\n",
      "at epoch 34, loss is 0.17739909887313843\n",
      "at epoch 35, loss is 0.17259183526039124\n",
      "at epoch 36, loss is 0.17189687490463257\n",
      "at epoch 37, loss is 0.17815184593200684\n",
      "at epoch 38, loss is 0.17647229135036469\n",
      "at epoch 39, loss is 0.1783256083726883\n",
      "at epoch 40, loss is 0.1738659292459488\n",
      "at epoch 41, loss is 0.17878888547420502\n",
      "at epoch 42, loss is 0.1779780238866806\n",
      "at epoch 43, loss is 0.17514009773731232\n",
      "at epoch 44, loss is 0.17461887001991272\n",
      "at epoch 45, loss is 0.175198033452034\n",
      "at epoch 46, loss is 0.1741556078195572\n",
      "at epoch 47, loss is 0.17247600853443146\n",
      "at epoch 48, loss is 0.1751401126384735\n",
      "at epoch 49, loss is 0.17664594948291779\n"
     ]
    }
   ],
   "source": [
    "for i in range(50):    #A\n",
    "    tloss=0\n",
    "    for n,(imgs,labels) in enumerate(binary_train_loader):    #B\n",
    "        imgs=imgs.reshape(-1,28*28)    #C\n",
    "        imgs=imgs.to(device)\n",
    "        labels=torch.FloatTensor(\\\n",
    "          [x if x==0 else 1 for x in labels])    #D\n",
    "        labels=labels.reshape(-1,1).to(device)\n",
    "        preds=binary_model(imgs)    \n",
    "        loss=loss_fn(preds,labels)    #E\n",
    "        optimizer.zero_grad()\n",
    "        loss.backward()    #F\n",
    "        optimizer.step()\n",
    "        tloss+=loss\n",
    "    tloss=tloss/n\n",
    "    print(f\"at epoch {i}, loss is {tloss}\")"
   ]
  },
  {
   "cell_type": "markdown",
   "id": "7400304a",
   "metadata": {
    "papermill": {
     "duration": 0.011709,
     "end_time": "2025-04-11T17:31:30.747357",
     "exception": false,
     "start_time": "2025-04-11T17:31:30.735648",
     "status": "completed"
    },
    "tags": []
   },
   "source": [
    "## 3.3. Calculate the Accuracy of the Binary Classifier"
   ]
  },
  {
   "cell_type": "code",
   "execution_count": 29,
   "id": "a785f25c",
   "metadata": {
    "execution": {
     "iopub.execute_input": "2025-04-11T17:31:30.771906Z",
     "iopub.status.busy": "2025-04-11T17:31:30.771619Z",
     "iopub.status.idle": "2025-04-11T17:31:30.878428Z",
     "shell.execute_reply": "2025-04-11T17:31:30.877531Z"
    },
    "papermill": {
     "duration": 0.120654,
     "end_time": "2025-04-11T17:31:30.879696",
     "exception": false,
     "start_time": "2025-04-11T17:31:30.759042",
     "status": "completed"
    },
    "tags": []
   },
   "outputs": [
    {
     "name": "stdout",
     "output_type": "stream",
     "text": [
      "the accuracy of the predictions is 0.8779296875\n"
     ]
    }
   ],
   "source": [
    "import numpy as np\n",
    "\n",
    "results=[]\n",
    "for imgs,labels in binary_test_loader:    #A\n",
    "    imgs=imgs.reshape(-1,28*28).to(device)\n",
    "    labels=torch.FloatTensor(\\\n",
    "         [x if x==0 else 1 for x in labels])\n",
    "    labels=(labels).reshape(-1,1).to(device)\n",
    "    preds=binary_model(imgs)\n",
    "    pred10=torch.where(preds>0.5,1,0)\n",
    "    correct=(pred10==labels)    #B\n",
    "    results.append(correct.detach().cpu()\\\n",
    "      .numpy().mean())    #C\n",
    "accuracy=np.array(results).mean()    #D\n",
    "print(f\"the accuracy of the predictions is {accuracy}\")     "
   ]
  },
  {
   "cell_type": "markdown",
   "id": "af3ec981",
   "metadata": {
    "papermill": {
     "duration": 0.01168,
     "end_time": "2025-04-11T17:31:30.903448",
     "exception": false,
     "start_time": "2025-04-11T17:31:30.891768",
     "status": "completed"
    },
    "tags": []
   },
   "source": [
    "# 4. Multi-Category Classification\n"
   ]
  },
  {
   "cell_type": "markdown",
   "id": "db1d8aa8",
   "metadata": {
    "papermill": {
     "duration": 0.011541,
     "end_time": "2025-04-11T17:31:30.926745",
     "exception": false,
     "start_time": "2025-04-11T17:31:30.915204",
     "status": "completed"
    },
    "tags": []
   },
   "source": [
    "## 4.1. Validation Set and Early Stopping\n"
   ]
  },
  {
   "cell_type": "code",
   "execution_count": 30,
   "id": "d3b65125",
   "metadata": {
    "execution": {
     "iopub.execute_input": "2025-04-11T17:31:30.951509Z",
     "iopub.status.busy": "2025-04-11T17:31:30.951255Z",
     "iopub.status.idle": "2025-04-11T17:31:30.961907Z",
     "shell.execute_reply": "2025-04-11T17:31:30.961333Z"
    },
    "papermill": {
     "duration": 0.024358,
     "end_time": "2025-04-11T17:31:30.962998",
     "exception": false,
     "start_time": "2025-04-11T17:31:30.938640",
     "status": "completed"
    },
    "tags": []
   },
   "outputs": [],
   "source": [
    "torch.manual_seed(42)\n",
    "train_set,val_set=torch.utils.data.random_split(\\\n",
    "    train_set,[50000,10000])\n",
    "train_loader=torch.utils.data.DataLoader(\n",
    "    train_set,    \n",
    "    batch_size=batch_size,   \n",
    "    shuffle=True)   \n",
    "val_loader=torch.utils.data.DataLoader(\n",
    "    val_set,    \n",
    "    batch_size=batch_size,   \n",
    "    shuffle=True)\n",
    "test_loader=torch.utils.data.DataLoader(\n",
    "    test_set,    \n",
    "    batch_size=batch_size,   \n",
    "    shuffle=True)"
   ]
  },
  {
   "cell_type": "code",
   "execution_count": 31,
   "id": "cd317f8c",
   "metadata": {
    "execution": {
     "iopub.execute_input": "2025-04-11T17:31:30.988805Z",
     "iopub.status.busy": "2025-04-11T17:31:30.988139Z",
     "iopub.status.idle": "2025-04-11T17:31:30.992852Z",
     "shell.execute_reply": "2025-04-11T17:31:30.992156Z"
    },
    "papermill": {
     "duration": 0.018829,
     "end_time": "2025-04-11T17:31:30.994027",
     "exception": false,
     "start_time": "2025-04-11T17:31:30.975198",
     "status": "completed"
    },
    "tags": []
   },
   "outputs": [],
   "source": [
    "class EarlyStop:\n",
    "    def __init__(self, patience=10):\n",
    "        self.patience = patience\n",
    "        self.steps = 0\n",
    "        self.min_loss = float('inf')\n",
    "    def stop(self, val_loss):\n",
    "        if val_loss < self.min_loss:\n",
    "            self.min_loss = val_loss\n",
    "            self.steps = 0\n",
    "        elif val_loss >= self.min_loss:\n",
    "            self.steps += 1\n",
    "        if self.steps >= self.patience:\n",
    "            return True\n",
    "        else:\n",
    "            return False\n",
    "stopper=EarlyStop()"
   ]
  },
  {
   "cell_type": "markdown",
   "id": "81b5c23c",
   "metadata": {
    "papermill": {
     "duration": 0.011739,
     "end_time": "2025-04-11T17:31:31.017741",
     "exception": false,
     "start_time": "2025-04-11T17:31:31.006002",
     "status": "completed"
    },
    "tags": []
   },
   "source": [
    "## 4.2. A Multi-Category Classification Model\n"
   ]
  },
  {
   "cell_type": "code",
   "execution_count": 32,
   "id": "fb3e61c6",
   "metadata": {
    "execution": {
     "iopub.execute_input": "2025-04-11T17:31:31.042650Z",
     "iopub.status.busy": "2025-04-11T17:31:31.042384Z",
     "iopub.status.idle": "2025-04-11T17:31:31.049004Z",
     "shell.execute_reply": "2025-04-11T17:31:31.048501Z"
    },
    "papermill": {
     "duration": 0.020716,
     "end_time": "2025-04-11T17:31:31.050247",
     "exception": false,
     "start_time": "2025-04-11T17:31:31.029531",
     "status": "completed"
    },
    "tags": []
   },
   "outputs": [],
   "source": [
    "model=nn.Sequential(\n",
    "    nn.Linear(28*28,256),\n",
    "    nn.ReLU(),\n",
    "    nn.Linear(256,128),\n",
    "    nn.ReLU(),\n",
    "    nn.Linear(128,64),\n",
    "    nn.ReLU(),\n",
    "    nn.Linear(64,10)).to(device)"
   ]
  },
  {
   "cell_type": "code",
   "execution_count": 33,
   "id": "3ae2e77c",
   "metadata": {
    "execution": {
     "iopub.execute_input": "2025-04-11T17:31:31.075193Z",
     "iopub.status.busy": "2025-04-11T17:31:31.074919Z",
     "iopub.status.idle": "2025-04-11T17:31:31.079890Z",
     "shell.execute_reply": "2025-04-11T17:31:31.079329Z"
    },
    "papermill": {
     "duration": 0.018461,
     "end_time": "2025-04-11T17:31:31.080921",
     "exception": false,
     "start_time": "2025-04-11T17:31:31.062460",
     "status": "completed"
    },
    "tags": []
   },
   "outputs": [],
   "source": [
    "lr=0.001\n",
    "optimizer=torch.optim.Adam(model.parameters(),lr=lr)\n",
    "loss_fn=nn.CrossEntropyLoss()"
   ]
  },
  {
   "cell_type": "markdown",
   "id": "1cb1709b",
   "metadata": {
    "papermill": {
     "duration": 0.011548,
     "end_time": "2025-04-11T17:31:31.104383",
     "exception": false,
     "start_time": "2025-04-11T17:31:31.092835",
     "status": "completed"
    },
    "tags": []
   },
   "source": [
    "## 4.3. Train the Multi-Category Classifier\n",
    " "
   ]
  },
  {
   "cell_type": "code",
   "execution_count": 34,
   "id": "ebec617e",
   "metadata": {
    "execution": {
     "iopub.execute_input": "2025-04-11T17:31:31.128655Z",
     "iopub.status.busy": "2025-04-11T17:31:31.128371Z",
     "iopub.status.idle": "2025-04-11T17:31:31.132696Z",
     "shell.execute_reply": "2025-04-11T17:31:31.132155Z"
    },
    "papermill": {
     "duration": 0.017701,
     "end_time": "2025-04-11T17:31:31.133712",
     "exception": false,
     "start_time": "2025-04-11T17:31:31.116011",
     "status": "completed"
    },
    "tags": []
   },
   "outputs": [],
   "source": [
    "def train_epoch():\n",
    "    tloss=0\n",
    "    for n,(imgs,labels) in enumerate(train_loader):    \n",
    "        imgs=imgs.reshape(-1,28*28).to(device)\n",
    "        labels=labels.reshape(-1,).to(device)\n",
    "        preds=model(imgs)    \n",
    "        loss=loss_fn(preds,labels)\n",
    "        optimizer.zero_grad()\n",
    "        loss.backward()    \n",
    "        optimizer.step()\n",
    "        tloss+=loss\n",
    "    return tloss/n  "
   ]
  },
  {
   "cell_type": "code",
   "execution_count": 35,
   "id": "71d43ad7",
   "metadata": {
    "execution": {
     "iopub.execute_input": "2025-04-11T17:31:31.158631Z",
     "iopub.status.busy": "2025-04-11T17:31:31.157955Z",
     "iopub.status.idle": "2025-04-11T17:31:31.162456Z",
     "shell.execute_reply": "2025-04-11T17:31:31.161732Z"
    },
    "papermill": {
     "duration": 0.017991,
     "end_time": "2025-04-11T17:31:31.163597",
     "exception": false,
     "start_time": "2025-04-11T17:31:31.145606",
     "status": "completed"
    },
    "tags": []
   },
   "outputs": [],
   "source": [
    "def val_epoch():\n",
    "    vloss=0\n",
    "    for n,(imgs,labels) in enumerate(val_loader):    \n",
    "        imgs=imgs.reshape(-1,28*28).to(device)\n",
    "        labels=labels.reshape(-1,).to(device)\n",
    "        preds=model(imgs)    \n",
    "        loss=loss_fn(preds,labels)    \n",
    "        vloss+=loss\n",
    "    return vloss/n "
   ]
  },
  {
   "cell_type": "code",
   "execution_count": 36,
   "id": "e2d9f7e7",
   "metadata": {
    "execution": {
     "iopub.execute_input": "2025-04-11T17:31:31.188461Z",
     "iopub.status.busy": "2025-04-11T17:31:31.187838Z",
     "iopub.status.idle": "2025-04-11T17:34:35.533898Z",
     "shell.execute_reply": "2025-04-11T17:34:35.533093Z"
    },
    "papermill": {
     "duration": 184.360019,
     "end_time": "2025-04-11T17:34:35.535394",
     "exception": false,
     "start_time": "2025-04-11T17:31:31.175375",
     "status": "completed"
    },
    "tags": []
   },
   "outputs": [
    {
     "name": "stdout",
     "output_type": "stream",
     "text": [
      "at epoch 1, tloss is 0.5360037088394165, vloss is 0.41210630536079407\n",
      "at epoch 2, tloss is 0.3861232399940491, vloss is 0.39775538444519043\n",
      "at epoch 3, tloss is 0.34591925144195557, vloss is 0.37837013602256775\n",
      "at epoch 4, tloss is 0.3245319128036499, vloss is 0.3528192937374115\n",
      "at epoch 5, tloss is 0.30110496282577515, vloss is 0.32581430673599243\n",
      "at epoch 6, tloss is 0.28501585125923157, vloss is 0.3369586765766144\n",
      "at epoch 7, tloss is 0.27235713601112366, vloss is 0.31972870230674744\n",
      "at epoch 8, tloss is 0.2557087540626526, vloss is 0.3302297294139862\n",
      "at epoch 9, tloss is 0.2431035041809082, vloss is 0.32600000500679016\n",
      "at epoch 10, tloss is 0.2335035502910614, vloss is 0.32753118872642517\n",
      "at epoch 11, tloss is 0.22308306396007538, vloss is 0.32728150486946106\n",
      "at epoch 12, tloss is 0.21413542330265045, vloss is 0.3665117025375366\n",
      "at epoch 13, tloss is 0.20472212135791779, vloss is 0.35870474576950073\n",
      "at epoch 14, tloss is 0.19478844106197357, vloss is 0.342212438583374\n",
      "at epoch 15, tloss is 0.18802481889724731, vloss is 0.3413639962673187\n",
      "at epoch 16, tloss is 0.18091225624084473, vloss is 0.3402891755104065\n",
      "at epoch 17, tloss is 0.17236492037773132, vloss is 0.35382553935050964\n"
     ]
    }
   ],
   "source": [
    "for i in range(1,101):    \n",
    "    tloss=train_epoch()\n",
    "    vloss=val_epoch()\n",
    "    print(f\"at epoch {i}, tloss is {tloss}, vloss is {vloss}\")\n",
    "    if stopper.stop(vloss)==True:             \n",
    "        break  "
   ]
  },
  {
   "cell_type": "markdown",
   "id": "ee4b214f",
   "metadata": {
    "papermill": {
     "duration": 0.012269,
     "end_time": "2025-04-11T17:34:35.560455",
     "exception": false,
     "start_time": "2025-04-11T17:34:35.548186",
     "status": "completed"
    },
    "tags": []
   },
   "source": [
    "## 4.4. Calculate the Accuracy of the Multi-Category Classifier"
   ]
  },
  {
   "cell_type": "code",
   "execution_count": 37,
   "id": "6ffa43fd",
   "metadata": {
    "execution": {
     "iopub.execute_input": "2025-04-11T17:34:35.586786Z",
     "iopub.status.busy": "2025-04-11T17:34:35.586143Z",
     "iopub.status.idle": "2025-04-11T17:34:35.815877Z",
     "shell.execute_reply": "2025-04-11T17:34:35.814827Z"
    },
    "papermill": {
     "duration": 0.24465,
     "end_time": "2025-04-11T17:34:35.817546",
     "exception": false,
     "start_time": "2025-04-11T17:34:35.572896",
     "status": "completed"
    },
    "tags": []
   },
   "outputs": [
    {
     "data": {
      "image/png": "[encoded data removed]",
      "text/plain": [
       "<Figure size 1500x300 with 5 Axes>"
      ]
     },
     "metadata": {},
     "output_type": "display_data"
    },
    {
     "name": "stdout",
     "output_type": "stream",
     "text": [
      "the label is 9; the prediction is 9\n",
      "the label is 2; the prediction is 2\n",
      "the label is 1; the prediction is 1\n",
      "the label is 1; the prediction is 1\n",
      "the label is 6; the prediction is 6\n"
     ]
    }
   ],
   "source": [
    "plt.figure(dpi=300,figsize=(5,1))\n",
    "for i in range(5):\n",
    "    ax=plt.subplot(1,5, i + 1)    \n",
    "    img=test_set[i][0]    \n",
    "    label=test_set[i][1]\n",
    "    img=img/2+0.5    \n",
    "    img=img.reshape(28, 28)    \n",
    "    plt.imshow(img, cmap=\"binary\")\n",
    "    plt.axis('off')\n",
    "    plt.title(text_labels[label]+f\"; {label}\", fontsize=8)\n",
    "plt.show()\n",
    "for i in range(5):\n",
    "    img,label = test_set[i]\n",
    "    img=img.reshape(-1,28*28).to(device)\n",
    "    pred=model(img)   \n",
    "    index_pred=torch.argmax(pred,dim=1)\n",
    "    idx=index_pred.item()\n",
    "    print(f\"the label is {label}; the prediction is {idx}\")   "
   ]
  },
  {
   "cell_type": "code",
   "execution_count": 38,
   "id": "67a48957",
   "metadata": {
    "execution": {
     "iopub.execute_input": "2025-04-11T17:34:35.858411Z",
     "iopub.status.busy": "2025-04-11T17:34:35.857885Z",
     "iopub.status.idle": "2025-04-11T17:34:37.600351Z",
     "shell.execute_reply": "2025-04-11T17:34:37.599531Z"
    },
    "papermill": {
     "duration": 1.762819,
     "end_time": "2025-04-11T17:34:37.601562",
     "exception": false,
     "start_time": "2025-04-11T17:34:35.838743",
     "status": "completed"
    },
    "tags": []
   },
   "outputs": [
    {
     "name": "stdout",
     "output_type": "stream",
     "text": [
      "the accuracy of the predictions is 0.8872412420382165\n"
     ]
    }
   ],
   "source": [
    "import numpy as np\n",
    "results=[]\n",
    "\n",
    "for imgs,labels in test_loader:\n",
    "    imgs=imgs.reshape(-1,28*28).to(device)\n",
    "    labels=(labels).reshape(-1,).to(device)\n",
    "    preds=model(imgs)\n",
    "    pred10=torch.argmax(preds,dim=1)\n",
    "    correct=(pred10==labels)\n",
    "    results.append(correct.detach().cpu().numpy().mean())\n",
    "    \n",
    "accuracy=np.array(results).mean()\n",
    "\n",
    "print(f\"the accuracy of the predictions is {accuracy}\")     "
   ]
  },
  {
   "cell_type": "code",
   "execution_count": 39,
   "id": "dda3ed7e",
   "metadata": {
    "execution": {
     "iopub.execute_input": "2025-04-11T17:34:37.628400Z",
     "iopub.status.busy": "2025-04-11T17:34:37.628197Z",
     "iopub.status.idle": "2025-04-11T17:34:37.633569Z",
     "shell.execute_reply": "2025-04-11T17:34:37.632804Z"
    },
    "papermill": {
     "duration": 0.019905,
     "end_time": "2025-04-11T17:34:37.634610",
     "exception": false,
     "start_time": "2025-04-11T17:34:37.614705",
     "status": "completed"
    },
    "tags": []
   },
   "outputs": [
    {
     "name": "stdout",
     "output_type": "stream",
     "text": [
      "tensor([ 5.,  8., 10.], dtype=torch.float64)\n",
      "tensor([ 5.,  8., 10.], dtype=torch.float64)\n"
     ]
    }
   ],
   "source": [
    "# Exercise 2.1\n",
    "t1=torch.DoubleTensor([5, 8, 10])    \n",
    "t2=torch.tensor([5, 8, 10],\n",
    "             dtype=torch.float64)    # or dtype=torch.double\n",
    "print(t1)\n",
    "print(t2)"
   ]
  },
  {
   "cell_type": "code",
   "execution_count": 40,
   "id": "ba078452",
   "metadata": {
    "execution": {
     "iopub.execute_input": "2025-04-11T17:34:37.660763Z",
     "iopub.status.busy": "2025-04-11T17:34:37.660554Z",
     "iopub.status.idle": "2025-04-11T17:34:37.664993Z",
     "shell.execute_reply": "2025-04-11T17:34:37.664267Z"
    },
    "papermill": {
     "duration": 0.018789,
     "end_time": "2025-04-11T17:34:37.666035",
     "exception": false,
     "start_time": "2025-04-11T17:34:37.647246",
     "status": "completed"
    },
    "tags": []
   },
   "outputs": [
    {
     "name": "stdout",
     "output_type": "stream",
     "text": [
      "tensor([[[0., 0., 0., 0.],\n",
      "         [0., 0., 0., 0.],\n",
      "         [0., 0., 0., 0.]],\n",
      "\n",
      "        [[0., 0., 0., 0.],\n",
      "         [0., 0., 0., 0.],\n",
      "         [0., 0., 0., 0.]]])\n"
     ]
    }
   ],
   "source": [
    "# Exercise 2.2\n",
    "tensor1 = torch.zeros(2, 3, 4)\n",
    "print(tensor1)"
   ]
  },
  {
   "cell_type": "code",
   "execution_count": 41,
   "id": "7c4b6e09",
   "metadata": {
    "execution": {
     "iopub.execute_input": "2025-04-11T17:34:37.693500Z",
     "iopub.status.busy": "2025-04-11T17:34:37.692855Z",
     "iopub.status.idle": "2025-04-11T17:34:37.697395Z",
     "shell.execute_reply": "2025-04-11T17:34:37.696690Z"
    },
    "papermill": {
     "duration": 0.019191,
     "end_time": "2025-04-11T17:34:37.698414",
     "exception": false,
     "start_time": "2025-04-11T17:34:37.679223",
     "status": "completed"
    },
    "tags": []
   },
   "outputs": [
    {
     "name": "stdout",
     "output_type": "stream",
     "text": [
      "tensor([189., 170., 189., 163., 183.], dtype=torch.float64)\n"
     ]
    }
   ],
   "source": [
    "# Exercise 2.3\n",
    "five_heights = heights_tensor[:5] # or five_heights = heights_tensor[0:5]\n",
    "print(five_heights)"
   ]
  },
  {
   "cell_type": "code",
   "execution_count": 42,
   "id": "49933f4e",
   "metadata": {
    "execution": {
     "iopub.execute_input": "2025-04-11T17:34:37.725670Z",
     "iopub.status.busy": "2025-04-11T17:34:37.725239Z",
     "iopub.status.idle": "2025-04-11T17:34:37.729531Z",
     "shell.execute_reply": "2025-04-11T17:34:37.728959Z"
    },
    "papermill": {
     "duration": 0.019044,
     "end_time": "2025-04-11T17:34:37.730466",
     "exception": false,
     "start_time": "2025-04-11T17:34:37.711422",
     "status": "completed"
    },
    "tags": []
   },
   "outputs": [
    {
     "name": "stdout",
     "output_type": "stream",
     "text": [
      "tensor(183., dtype=torch.float64)\n"
     ]
    }
   ],
   "source": [
    "# Exercise 2.4\n",
    "print(heights_reshaped[0,-1])"
   ]
  },
  {
   "cell_type": "code",
   "execution_count": 43,
   "id": "10adaf27",
   "metadata": {
    "execution": {
     "iopub.execute_input": "2025-04-11T17:34:37.758962Z",
     "iopub.status.busy": "2025-04-11T17:34:37.758693Z",
     "iopub.status.idle": "2025-04-11T17:34:37.763994Z",
     "shell.execute_reply": "2025-04-11T17:34:37.763181Z"
    },
    "papermill": {
     "duration": 0.021416,
     "end_time": "2025-04-11T17:34:37.765207",
     "exception": false,
     "start_time": "2025-04-11T17:34:37.743791",
     "status": "completed"
    },
    "tags": []
   },
   "outputs": [
    {
     "name": "stdout",
     "output_type": "stream",
     "text": [
      "tensor([163.0000,   5.3478], dtype=torch.float64)\n",
      "tensor([3, 3])\n"
     ]
    }
   ],
   "source": [
    "# Exercise 2.5\n",
    "values, indices = torch.min(heights_reshaped, dim=1)\n",
    "print(values)\n",
    "print(indices)"
   ]
  },
  {
   "cell_type": "code",
   "execution_count": 44,
   "id": "70f7579a",
   "metadata": {
    "execution": {
     "iopub.execute_input": "2025-04-11T17:34:37.795657Z",
     "iopub.status.busy": "2025-04-11T17:34:37.795452Z",
     "iopub.status.idle": "2025-04-11T17:37:48.703040Z",
     "shell.execute_reply": "2025-04-11T17:37:48.702192Z"
    },
    "papermill": {
     "duration": 190.922882,
     "end_time": "2025-04-11T17:37:48.704204",
     "exception": false,
     "start_time": "2025-04-11T17:34:37.781322",
     "status": "completed"
    },
    "tags": []
   },
   "outputs": [
    {
     "name": "stdout",
     "output_type": "stream",
     "text": [
      "Downloading http://fashion-mnist.s3-website.eu-central-1.amazonaws.com/train-images-idx3-ubyte.gz\n",
      "Downloading http://fashion-mnist.s3-website.eu-central-1.amazonaws.com/train-images-idx3-ubyte.gz to E:\\temp/FashionMNIST/raw/train-images-idx3-ubyte.gz\n"
     ]
    },
    {
     "name": "stderr",
     "output_type": "stream",
     "text": [
      "100%|██████████| 26.4M/26.4M [00:00<00:00, 112MB/s]\n"
     ]
    },
    {
     "name": "stdout",
     "output_type": "stream",
     "text": [
      "Extracting E:\\temp/FashionMNIST/raw/train-images-idx3-ubyte.gz to E:\\temp/FashionMNIST/raw\n",
      "\n",
      "Downloading http://fashion-mnist.s3-website.eu-central-1.amazonaws.com/train-labels-idx1-ubyte.gz\n",
      "Downloading http://fashion-mnist.s3-website.eu-central-1.amazonaws.com/train-labels-idx1-ubyte.gz to E:\\temp/FashionMNIST/raw/train-labels-idx1-ubyte.gz\n"
     ]
    },
    {
     "name": "stderr",
     "output_type": "stream",
     "text": [
      "100%|██████████| 29.5k/29.5k [00:00<00:00, 3.85MB/s]"
     ]
    },
    {
     "name": "stdout",
     "output_type": "stream",
     "text": [
      "Extracting E:\\temp/FashionMNIST/raw/train-labels-idx1-ubyte.gz to E:\\temp/FashionMNIST/raw\n",
      "\n",
      "Downloading http://fashion-mnist.s3-website.eu-central-1.amazonaws.com/t10k-images-idx3-ubyte.gz\n",
      "Downloading http://fashion-mnist.s3-website.eu-central-1.amazonaws.com/t10k-images-idx3-ubyte.gz to E:\\temp/FashionMNIST/raw/t10k-images-idx3-ubyte.gz\n"
     ]
    },
    {
     "name": "stderr",
     "output_type": "stream",
     "text": [
      "\n",
      "100%|██████████| 4.42M/4.42M [00:00<00:00, 63.8MB/s]\n"
     ]
    },
    {
     "name": "stdout",
     "output_type": "stream",
     "text": [
      "Extracting E:\\temp/FashionMNIST/raw/t10k-images-idx3-ubyte.gz to E:\\temp/FashionMNIST/raw\n",
      "\n",
      "Downloading http://fashion-mnist.s3-website.eu-central-1.amazonaws.com/t10k-labels-idx1-ubyte.gz\n",
      "Downloading http://fashion-mnist.s3-website.eu-central-1.amazonaws.com/t10k-labels-idx1-ubyte.gz to E:\\temp/FashionMNIST/raw/t10k-labels-idx1-ubyte.gz\n"
     ]
    },
    {
     "name": "stderr",
     "output_type": "stream",
     "text": [
      "100%|██████████| 5.15k/5.15k [00:00<00:00, 12.4MB/s]\n"
     ]
    },
    {
     "name": "stdout",
     "output_type": "stream",
     "text": [
      "Extracting E:\\temp/FashionMNIST/raw/t10k-labels-idx1-ubyte.gz to E:\\temp/FashionMNIST/raw\n",
      "\n",
      "at epoch 1, tloss is 0.5360037088394165, vloss is 0.41210630536079407\n",
      "at epoch 2, tloss is 0.3861232399940491, vloss is 0.39775538444519043\n",
      "at epoch 3, tloss is 0.34591925144195557, vloss is 0.37837013602256775\n",
      "at epoch 4, tloss is 0.3245319128036499, vloss is 0.3528192937374115\n",
      "at epoch 5, tloss is 0.30110496282577515, vloss is 0.32581430673599243\n",
      "at epoch 6, tloss is 0.28501585125923157, vloss is 0.3369586765766144\n",
      "at epoch 7, tloss is 0.27235713601112366, vloss is 0.31972870230674744\n",
      "at epoch 8, tloss is 0.2557087540626526, vloss is 0.3302297294139862\n",
      "at epoch 9, tloss is 0.2431035041809082, vloss is 0.32600000500679016\n",
      "at epoch 10, tloss is 0.2335035502910614, vloss is 0.32753118872642517\n",
      "at epoch 11, tloss is 0.22308306396007538, vloss is 0.32728150486946106\n",
      "at epoch 12, tloss is 0.21413542330265045, vloss is 0.3665117025375366\n",
      "at epoch 13, tloss is 0.20472212135791779, vloss is 0.35870474576950073\n",
      "at epoch 14, tloss is 0.19478844106197357, vloss is 0.342212438583374\n",
      "at epoch 15, tloss is 0.18802481889724731, vloss is 0.3413639962673187\n",
      "at epoch 16, tloss is 0.18091225624084473, vloss is 0.3402891755104065\n",
      "at epoch 17, tloss is 0.17236492037773132, vloss is 0.35382553935050964\n",
      "the accuracy of the predictions is 0.8872412420382165\n"
     ]
    }
   ],
   "source": [
    "# A demonstration that nn.CrossEntropyLoss() combines nn.LogSoftmax() and nn.NLLLoss() in one single class\n",
    "# instead of using nn.CrossEntropyLoss() and no SoftMax activation in the book\n",
    "# here we use nn.LogSoftmax() activation and nn.NLLLoss() loss function\n",
    "# results are the same as those in the book\n",
    "\n",
    "import torch\n",
    "import torch.nn as nn\n",
    "import torchvision\n",
    "import torchvision.transforms as T\n",
    "\n",
    "torch.manual_seed(42)\n",
    "transform=T.Compose([\n",
    "    T.ToTensor(),\n",
    "    T.Normalize([0.5],[0.5])])\n",
    "train_set=torchvision.datasets.FashionMNIST(    #A\n",
    "    root=r\"E:\\temp\",    #B\n",
    "    train=True,    #C\n",
    "    download=True,    #D\n",
    "    transform=transform)    #E\n",
    "test_set=torchvision.datasets.FashionMNIST(\n",
    "    root=r\"E:\\temp\",    #B\n",
    "    train=False,\n",
    "    download=True,\n",
    "    transform=transform)\n",
    "\n",
    "text_labels = ['t-shirt', 'trouser', 'pullover', 'dress', 'coat',\n",
    "                'sandal', 'shirt', 'sneaker', 'bag', 'ankle boot']\n",
    "\n",
    "import matplotlib.pyplot as plt\n",
    "\n",
    "train_set,val_set=torch.utils.data.random_split(\\\n",
    "    train_set,[50000,10000])\n",
    "\n",
    "\n",
    "batch_size=64\n",
    "train_loader=torch.utils.data.DataLoader(\n",
    "    train_set,    \n",
    "    batch_size=batch_size,   \n",
    "    shuffle=True)   \n",
    "val_loader=torch.utils.data.DataLoader(\n",
    "    val_set,    \n",
    "    batch_size=batch_size,   \n",
    "    shuffle=True)\n",
    "test_loader=torch.utils.data.DataLoader(\n",
    "    test_set,    \n",
    "    batch_size=batch_size,   \n",
    "    shuffle=True)\n",
    "\n",
    "device=\"cuda\" if torch.cuda.is_available() else \"cpu\"    #A\n",
    "\n",
    "model=nn.Sequential(\n",
    "    nn.Linear(28*28,256),\n",
    "    nn.ReLU(),\n",
    "    nn.Linear(256,128),\n",
    "    nn.ReLU(),\n",
    "    nn.Linear(128,64),\n",
    "    nn.ReLU(),\n",
    "    nn.Linear(64,10),\n",
    "    nn.LogSoftmax(dim=1)).to(device) # note the LogSoftmax activation\n",
    "\n",
    "\n",
    "\n",
    "lr=0.001\n",
    "optimizer=torch.optim.Adam(model.parameters(),lr=lr)\n",
    "\n",
    "# note the negative log likelihood loss NLLLoss()\n",
    "loss_fn=nn.NLLLoss()\n",
    "\n",
    "\n",
    "class EarlyStop:\n",
    "    def __init__(self, patience=10):\n",
    "        self.patience = patience\n",
    "        self.steps = 0\n",
    "        self.min_loss = float('inf')\n",
    "    def stop(self, val_loss):\n",
    "        if val_loss < self.min_loss:\n",
    "            self.min_loss = val_loss\n",
    "            self.steps = 0\n",
    "        elif val_loss > self.min_loss:\n",
    "            self.steps += 1\n",
    "        if self.steps >= self.patience:\n",
    "            return True\n",
    "        else:\n",
    "            return False\n",
    "\n",
    "\n",
    "stopper=EarlyStop()\n",
    "\n",
    "def train_epoch():\n",
    "    tloss=0\n",
    "    for n,(imgs,labels) in enumerate(train_loader):    #B\n",
    "        imgs=imgs.reshape(-1,28*28).to(device)\n",
    "        labels=labels.reshape(-1,).to(device)\n",
    "        preds=model(imgs)    \n",
    "        loss=loss_fn(preds,labels)\n",
    "        optimizer.zero_grad()\n",
    "        loss.backward()    #F\n",
    "        optimizer.step()\n",
    "        tloss+=loss\n",
    "    return tloss/n    \n",
    "\n",
    "def val_epoch():\n",
    "    vloss=0\n",
    "    for n,(imgs,labels) in enumerate(val_loader):    #B\n",
    "        imgs=imgs.reshape(-1,28*28).to(device)\n",
    "        labels=labels.reshape(-1,).to(device)\n",
    "        preds=model(imgs)    \n",
    "        loss=loss_fn(preds,labels)    #E\n",
    "        vloss+=loss\n",
    "    return vloss/n      \n",
    "\n",
    "for i in range(1,101):    #A\n",
    "    tloss=train_epoch()\n",
    "    vloss=val_epoch()\n",
    "    print(f\"at epoch {i}, tloss is {tloss}, vloss is {vloss}\")\n",
    "    if stopper.stop(vloss)==True:             \n",
    "        break    \n",
    "\n",
    "\n",
    "\n",
    "import numpy as np\n",
    "results=[]\n",
    "\n",
    "for imgs,labels in test_loader:\n",
    "    imgs=imgs.reshape(-1,28*28).to(device)\n",
    "    labels=(labels).reshape(-1,).to(device)\n",
    "    preds=model(imgs)\n",
    "    pred10=torch.argmax(preds,dim=1)\n",
    "    correct=(pred10==labels)\n",
    "    results.append(correct.detach().cpu().numpy().mean())\n",
    "    \n",
    "accuracy=np.array(results).mean()\n",
    "\n",
    "print(f\"the accuracy of the predictions is {accuracy}\")  "
   ]
  },
  {
   "cell_type": "code",
   "execution_count": null,
   "id": "f53619db",
   "metadata": {
    "papermill": {
     "duration": 0.014291,
     "end_time": "2025-04-11T17:37:48.733648",
     "exception": false,
     "start_time": "2025-04-11T17:37:48.719357",
     "status": "completed"
    },
    "tags": []
   },
   "outputs": [],
   "source": []
  }
 ],
 "metadata": {
  "kaggle": {
   "accelerator": "gpu",
   "dataSources": [
    {
     "datasetId": 1130676,
     "sourceId": 1897528,
     "sourceType": "datasetVersion"
    }
   ],
   "dockerImageVersionId": 31011,
   "isGpuEnabled": true,
   "isInternetEnabled": true,
   "language": "python",
   "sourceType": "notebook"
  },
  "kernelspec": {
   "display_name": "Python 3",
   "language": "python",
   "name": "python3"
  },
  "language_info": {
   "codemirror_mode": {
    "name": "ipython",
    "version": 3
   },
   "file_extension": ".py",
   "mimetype": "text/x-python",
   "name": "python",
   "nbconvert_exporter": "python",
   "pygments_lexer": "ipython3",
   "version": "3.11.11"
  },
  "papermill": {
   "default_parameters": {},
   "duration": 431.518688,
   "end_time": "2025-04-11T17:37:51.759480",
   "environment_variables": {},
   "exception": null,
   "input_path": "__notebook__.ipynb",
   "output_path": "__notebook__.ipynb",
   "parameters": {},
   "start_time": "2025-04-11T17:30:40.240792",
   "version": "2.6.0"
  }
 },
 "nbformat": 4,
 "nbformat_minor": 5
}
